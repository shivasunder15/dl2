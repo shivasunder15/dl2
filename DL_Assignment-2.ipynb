{
 "cells": [
  {
   "cell_type": "code",
   "execution_count": 5,
   "id": "0fc7263d",
   "metadata": {},
   "outputs": [
    {
     "name": "stdout",
     "output_type": "stream",
     "text": [
      "Epoch 1/10\n",
      "625/625 [==============================] - 250s 393ms/step - loss: 0.0039 - accuracy: 0.9986 - val_loss: 0.0000e+00 - val_accuracy: 1.0000\n",
      "Epoch 2/10\n",
      "625/625 [==============================] - 245s 392ms/step - loss: 0.0000e+00 - accuracy: 1.0000 - val_loss: 0.0000e+00 - val_accuracy: 1.0000\n",
      "Epoch 3/10\n",
      "625/625 [==============================] - 241s 385ms/step - loss: 0.0000e+00 - accuracy: 1.0000 - val_loss: 0.0000e+00 - val_accuracy: 1.0000\n",
      "Epoch 4/10\n",
      "625/625 [==============================] - 241s 385ms/step - loss: 0.0000e+00 - accuracy: 1.0000 - val_loss: 0.0000e+00 - val_accuracy: 1.0000\n",
      "Epoch 5/10\n",
      "625/625 [==============================] - 243s 389ms/step - loss: 0.0000e+00 - accuracy: 1.0000 - val_loss: 0.0000e+00 - val_accuracy: 1.0000\n",
      "Epoch 6/10\n",
      "625/625 [==============================] - 246s 394ms/step - loss: 0.0000e+00 - accuracy: 1.0000 - val_loss: 0.0000e+00 - val_accuracy: 1.0000\n",
      "Epoch 7/10\n",
      "625/625 [==============================] - 246s 394ms/step - loss: 0.0000e+00 - accuracy: 1.0000 - val_loss: 0.0000e+00 - val_accuracy: 1.0000\n",
      "Epoch 8/10\n",
      "625/625 [==============================] - 266s 425ms/step - loss: 0.0000e+00 - accuracy: 1.0000 - val_loss: 0.0000e+00 - val_accuracy: 1.0000\n",
      "Epoch 9/10\n",
      "625/625 [==============================] - 269s 431ms/step - loss: 0.0000e+00 - accuracy: 1.0000 - val_loss: 0.0000e+00 - val_accuracy: 1.0000\n",
      "Epoch 10/10\n",
      "625/625 [==============================] - 273s 436ms/step - loss: 0.0000e+00 - accuracy: 1.0000 - val_loss: 0.0000e+00 - val_accuracy: 1.0000\n",
      "32/32 - 9s - loss: 0.0000e+00 - accuracy: 1.0000 - 9s/epoch - 294ms/step\n",
      "Test accuracy: 100.00%\n",
      "1/1 [==============================] - 1s 534ms/step\n"
     ]
    }
   ],
   "source": [
    "import tensorflow as tf\n",
    "from tensorflow.keras.applications import MobileNet\n",
    "from tensorflow.keras.datasets import cifar10\n",
    "from tensorflow.keras.utils import to_categorical\n",
    "\n",
    "base_model = MobileNet(weights='imagenet', include_top=False, input_shape=(224, 224, 3))\n",
    "\n",
    "(x_train, y_train), (x_test, y_test) = cifar10.load_data()\n",
    "x_train_dogs = x_train[y_train[:, 0] == 5]\n",
    "y_train_dogs = y_train[y_train[:, 0] == 5]\n",
    "x_test_dogs = x_test[y_test[:, 0] == 5]\n",
    "y_test_dogs = y_test[y_test[:, 0] == 5]\n",
    "\n",
    "with tf.device('/CPU:0'):\n",
    "    x_train_dogs = tf.image.resize(x_train_dogs, (224, 224))\n",
    "    x_test_dogs = tf.image.resize(x_test_dogs, (224, 224))\n",
    "\n",
    "x_train_dogs = x_train_dogs / 255.0\n",
    "x_test_dogs = x_test_dogs / 255.0\n",
    "\n",
    "y_train_dogs = to_categorical(y_train_dogs, 10)\n",
    "y_test_dogs = to_categorical(y_test_dogs, 10)\n",
    "\n",
    "data_generator = tf.keras.preprocessing.image.ImageDataGenerator(\n",
    "    rotation_range=20,\n",
    "    width_shift_range=0.2,\n",
    "    height_shift_range=0.2,\n",
    "    horizontal_flip=True,\n",
    "    zoom_range=0.1\n",
    ")\n",
    "\n",
    "data_generator.fit(x_train_dogs)\n",
    "train_generator = data_generator.flow(x_train_dogs, y_train_dogs, batch_size=8)\n",
    "batch_size = 8\n",
    "\n",
    "model = tf.keras.Sequential([\n",
    "    base_model,\n",
    "    tf.keras.layers.GlobalAveragePooling2D(),\n",
    "    tf.keras.layers.Dense(256, activation='relu'),\n",
    "    tf.keras.layers.Dense(10, activation='softmax')\n",
    "])\n",
    "\n",
    "model.compile(optimizer='adam',\n",
    "              loss='categorical_crossentropy',\n",
    "              metrics=['accuracy'])\n",
    "\n",
    "history = model.fit(train_generator, \n",
    "                    steps_per_epoch=len(x_train_dogs) // batch_size, \n",
    "                    epochs=10, \n",
    "                    validation_data=(x_test_dogs, y_test_dogs), \n",
    "                    verbose=1)\n",
    "\n",
    "test_loss, test_acc = model.evaluate(x_test_dogs, y_test_dogs, verbose=2)\n",
    "print(f'Test accuracy: {test_acc*100:.2f}%')\n",
    "\n",
    "import numpy as np\n",
    "from tensorflow.keras.preprocessing import image\n",
    "\n",
    "def preprocess_image(image_path):\n",
    "    img = image.load_img(image_path, target_size=(224, 224))\n",
    "    img = image.img_to_array(img)\n",
    "    img = np.expand_dims(img, axis=0)\n",
    "    img = img / 255.0\n",
    "    return img\n",
    "\n",
    "def predict_dog(model, image_path):\n",
    "    img = preprocess_image(image_path)\n",
    "    prediction = model.predict(img)\n",
    "    class_index = np.argmax(prediction)\n",
    "    return class_index, prediction[0][class_index]\n",
    "\n",
    "image_path = r\"C:\\Users\\uday\\Downloads\\dog.jpg\"\n",
    "class_index, confidence = predict_dog(model, image_path)\n"
   ]
  },
  {
   "cell_type": "code",
   "execution_count": 6,
   "id": "14970826",
   "metadata": {},
   "outputs": [
    {
     "name": "stdout",
     "output_type": "stream",
     "text": [
      "The model predicts that it's a dog!\n"
     ]
    }
   ],
   "source": [
    "if class_index == 5:\n",
    "    print(\"The model predicts that it's a dog!\")\n",
    "else:\n",
    "    print(\"The model predicts that it's not a dog.\")"
   ]
  },
  {
   "cell_type": "code",
   "execution_count": null,
   "id": "5587d347",
   "metadata": {},
   "outputs": [],
   "source": []
  }
 ],
 "metadata": {
  "kernelspec": {
   "display_name": "Python 3 (ipykernel)",
   "language": "python",
   "name": "python3"
  },
  "language_info": {
   "codemirror_mode": {
    "name": "ipython",
    "version": 3
   },
   "file_extension": ".py",
   "mimetype": "text/x-python",
   "name": "python",
   "nbconvert_exporter": "python",
   "pygments_lexer": "ipython3",
   "version": "3.11.5"
  }
 },
 "nbformat": 4,
 "nbformat_minor": 5
}
